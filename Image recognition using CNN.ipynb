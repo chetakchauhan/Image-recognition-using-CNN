{
 "cells": [
  {
   "cell_type": "code",
   "execution_count": 2,
   "metadata": {},
   "outputs": [
    {
     "name": "stderr",
     "output_type": "stream",
     "text": [
      "Using TensorFlow backend.\n"
     ]
    }
   ],
   "source": [
    "# loading libraries\n",
    "from keras.datasets import cifar10\n",
    "from keras.models import Sequential\n",
    "from keras.layers import Dense, Dropout, Flatten, Conv2D, MaxPooling2D, BatchNormalization"
   ]
  },
  {
   "cell_type": "code",
   "execution_count": 30,
   "metadata": {},
   "outputs": [],
   "source": [
    "# Load data set\n",
    "(x_train, y_train), (x_test, y_test) = cifar10.load_data()"
   ]
  },
  {
   "cell_type": "code",
   "execution_count": 36,
   "metadata": {},
   "outputs": [
    {
     "name": "stdout",
     "output_type": "stream",
     "text": [
      "x_train size: (50000, 32, 32, 3)\n",
      "y_train size: (50000, 1)\n",
      "\n",
      "x_test size: (10000, 32, 32, 3)\n",
      "y_test size: (10000, 1)\n"
     ]
    }
   ],
   "source": [
    "print(\"x_train size:\", x_train.shape)\n",
    "print(\"y_train size:\", y_train.shape)\n",
    "\n",
    "print(\"\\nx_test size:\", x_test.shape)\n",
    "print(\"y_test size:\", y_test.shape)\n",
    "\n",
    "# The x_train is the training input dataset with 50,000 images of 32*32*3 dimensions\n",
    "# The y_train is the training output dataset which has labels for the images"
   ]
  },
  {
   "cell_type": "code",
   "execution_count": 37,
   "metadata": {},
   "outputs": [],
   "source": [
    "# CIFAR10 has ten types of images labeled from 0 to 9. We only care about birds, which are labeled as class #2.\n",
    "# So we'll change the Y values. Instead of each class being labeled from 0 to 9, we'll set it to True\n",
    "# if it's a bird and False if it's not a bird.\n",
    "\n",
    "y_train = (y_train == 2).astype(int)\n",
    "y_test = (y_test == 2).astype(int)"
   ]
  },
  {
   "cell_type": "code",
   "execution_count": 38,
   "metadata": {},
   "outputs": [],
   "source": [
    "# Normalize image data (pixel values from 0 to 255) to the 0-to-1 range\n",
    "x_train = x_train.astype('float32')\n",
    "x_test = x_test.astype('float32')\n",
    "x_train /= 255\n",
    "x_test /= 255"
   ]
  },
  {
   "cell_type": "code",
   "execution_count": 44,
   "metadata": {},
   "outputs": [],
   "source": [
    "# Create a model and add layers\n",
    "model = Sequential()\n",
    "\n",
    "model.add(Conv2D(32, (3, 3), padding='same', input_shape=(32, 32, 3), activation=\"relu\"))\n",
    "# The 32 parameter tells Keras to create 32 convolutional filters. \n",
    "# The (3, 3)parameter means that each convolutional filter will be three pixels wide and three pixels tall.\n",
    "# Padding parameter tells Keras what to do at the edges of the image. 'same' means that Keras will add padding \n",
    "# at the edges of the images and valid means that Keras won’t add any padding (which is the default).\n",
    "# Input_shape parameter tells Keras size of the input data i.e 32x32 pixels with 3 color channels (RGB).\n",
    "# Rectified linear unit or relu is the activation function\n",
    "model.add(Conv2D(32, (3, 3), activation=\"relu\"))\n",
    "model.add(MaxPooling2D(pool_size=(2, 2)))\n",
    "# MaxPooling layer to downsample the data, A (2, 2) pool size means that the largest value in each 2x2 block of \n",
    "# data will be kept. This will downsample our data to 25 percent of its original size.\n",
    "model.add(BatchNormalization())\n",
    "# BatchNormalization layer will continually normalize the data as it passes between layers. \n",
    "# This just helps the model train a little faster.\n",
    "model.add(Dropout(0.25))\n",
    "# Dropout layer is to help prevent overfitting.\n",
    "\n",
    "# Adding another group of convolutional layers, max pooling, batch normalization, and dropout.\n",
    "model.add(Conv2D(64, (3, 3), padding='same', activation=\"relu\"))\n",
    "model.add(Conv2D(64, (3, 3), activation=\"relu\"))\n",
    "model.add(MaxPooling2D(pool_size=(2, 2)))\n",
    "model.add(BatchNormalization())\n",
    "model.add(Dropout(0.25))\n",
    "\n",
    "# Flatten() call is required in Keras whenever you transition from convolutional layers to Dense layers. \n",
    "model.add(Flatten())\n",
    "model.add(Dense(512, activation=\"relu\"))\n",
    "model.add(Dropout(0.5))\n",
    "model.add(Dense(1, activation=\"sigmoid\")) # this is the output layer\n",
    "\n",
    "# The output layer uses a sigmoid activation instead of a relu activation. The sigmoid function always produces \n",
    "# a value between 0 and 1. That’s perfect for the output layer since we want to output a probability score."
   ]
  },
  {
   "cell_type": "code",
   "execution_count": 45,
   "metadata": {},
   "outputs": [],
   "source": [
    "# Compile the model\n",
    "model.compile(\n",
    "    loss='binary_crossentropy',\n",
    "    optimizer=\"adam\",\n",
    "    metrics=['accuracy']\n",
    ")"
   ]
  },
  {
   "cell_type": "code",
   "execution_count": 46,
   "metadata": {},
   "outputs": [
    {
     "name": "stdout",
     "output_type": "stream",
     "text": [
      "Train on 50000 samples, validate on 10000 samples\n",
      "Epoch 1/1\n",
      "50000/50000 [==============================] - 164s 3ms/step - loss: 6.7485e-04 - acc: 0.9997 - val_loss: 1.0482e-07 - val_acc: 1.0000\n"
     ]
    }
   ],
   "source": [
    "# Train the model\n",
    "model.fit(\n",
    "    x_train,\n",
    "    y_train,\n",
    "    batch_size=32,\n",
    "    epochs=1, # running on local machine so using epoch=1, ideally 100-200\n",
    "    validation_data=(x_test, y_test),\n",
    "    shuffle=True\n",
    ")\n",
    "\n",
    "# Save the trained model to a file so we can use it to make predictions later\n",
    "model.save(\"bird_model.h5\")"
   ]
  }
 ],
 "metadata": {
  "kernelspec": {
   "display_name": "Python 3",
   "language": "python",
   "name": "python3"
  },
  "language_info": {
   "codemirror_mode": {
    "name": "ipython",
    "version": 3
   },
   "file_extension": ".py",
   "mimetype": "text/x-python",
   "name": "python",
   "nbconvert_exporter": "python",
   "pygments_lexer": "ipython3",
   "version": "3.6.6"
  }
 },
 "nbformat": 4,
 "nbformat_minor": 2
}
